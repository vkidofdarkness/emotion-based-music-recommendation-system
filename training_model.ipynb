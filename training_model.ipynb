{
  "nbformat": 4,
  "nbformat_minor": 0,
  "metadata": {
    "colab": {
      "provenance": [],
      "gpuType": "T4"
    },
    "kernelspec": {
      "name": "python3",
      "display_name": "Python 3"
    },
    "language_info": {
      "name": "python"
    },
    "accelerator": "GPU"
  },
  "cells": [
    {
      "cell_type": "markdown",
      "source": [
        "# Импортирование библиотек."
      ],
      "metadata": {
        "id": "DH4q5bVDiWrt"
      }
    },
    {
      "cell_type": "code",
      "execution_count": 20,
      "metadata": {
        "id": "uen2erNiVsgC"
      },
      "outputs": [],
      "source": [
        "import cv2\n",
        "import numpy as np\n",
        "import pandas as pd\n",
        "from keras import regularizers\n",
        "import matplotlib.pyplot as plt\n",
        "import tensorflow as tf\n",
        "from tensorflow import keras\n",
        "from keras import Sequential\n",
        "from keras import layers, losses, optimizers\n",
        "from keras import callbacks\n",
        "from sklearn.ensemble import RandomForestClassifier"
      ]
    },
    {
      "cell_type": "markdown",
      "source": [
        "# Получение данных."
      ],
      "metadata": {
        "id": "TlC9sdsdhn3N"
      }
    },
    {
      "cell_type": "code",
      "source": [
        "url = \"https://huggingface.co/spaces/mxz/emtion/resolve/c697775e0adc35a9cec32bd4d3484b5f5a263748/fer2013.csv\"\n",
        "df = pd.read_csv(url)"
      ],
      "metadata": {
        "id": "_LjUIh6tWFJ1"
      },
      "execution_count": 3,
      "outputs": []
    },
    {
      "cell_type": "code",
      "source": [
        "df.head()"
      ],
      "metadata": {
        "colab": {
          "base_uri": "https://localhost:8080/",
          "height": 206
        },
        "id": "VSc-SeDHWHCj",
        "outputId": "a949644b-03f4-4428-87c6-7af96e663b40"
      },
      "execution_count": 24,
      "outputs": [
        {
          "output_type": "execute_result",
          "data": {
            "text/plain": [
              "   emotion                                             pixels     Usage\n",
              "0        0  70 80 82 72 58 58 60 63 54 58 60 48 89 115 121...  Training\n",
              "1        0  151 150 147 155 148 133 111 140 170 174 182 15...  Training\n",
              "2        2  231 212 156 164 174 138 161 173 182 200 106 38...  Training\n",
              "3        4  24 32 36 30 32 23 19 20 30 41 21 22 32 34 21 1...  Training\n",
              "4        6  4 0 0 0 0 0 0 0 0 0 0 0 3 15 23 28 48 50 58 84...  Training"
            ],
            "text/html": [
              "\n",
              "  <div id=\"df-fcd7df43-d29a-4e5e-8428-4722dc87c8ff\" class=\"colab-df-container\">\n",
              "    <div>\n",
              "<style scoped>\n",
              "    .dataframe tbody tr th:only-of-type {\n",
              "        vertical-align: middle;\n",
              "    }\n",
              "\n",
              "    .dataframe tbody tr th {\n",
              "        vertical-align: top;\n",
              "    }\n",
              "\n",
              "    .dataframe thead th {\n",
              "        text-align: right;\n",
              "    }\n",
              "</style>\n",
              "<table border=\"1\" class=\"dataframe\">\n",
              "  <thead>\n",
              "    <tr style=\"text-align: right;\">\n",
              "      <th></th>\n",
              "      <th>emotion</th>\n",
              "      <th>pixels</th>\n",
              "      <th>Usage</th>\n",
              "    </tr>\n",
              "  </thead>\n",
              "  <tbody>\n",
              "    <tr>\n",
              "      <th>0</th>\n",
              "      <td>0</td>\n",
              "      <td>70 80 82 72 58 58 60 63 54 58 60 48 89 115 121...</td>\n",
              "      <td>Training</td>\n",
              "    </tr>\n",
              "    <tr>\n",
              "      <th>1</th>\n",
              "      <td>0</td>\n",
              "      <td>151 150 147 155 148 133 111 140 170 174 182 15...</td>\n",
              "      <td>Training</td>\n",
              "    </tr>\n",
              "    <tr>\n",
              "      <th>2</th>\n",
              "      <td>2</td>\n",
              "      <td>231 212 156 164 174 138 161 173 182 200 106 38...</td>\n",
              "      <td>Training</td>\n",
              "    </tr>\n",
              "    <tr>\n",
              "      <th>3</th>\n",
              "      <td>4</td>\n",
              "      <td>24 32 36 30 32 23 19 20 30 41 21 22 32 34 21 1...</td>\n",
              "      <td>Training</td>\n",
              "    </tr>\n",
              "    <tr>\n",
              "      <th>4</th>\n",
              "      <td>6</td>\n",
              "      <td>4 0 0 0 0 0 0 0 0 0 0 0 3 15 23 28 48 50 58 84...</td>\n",
              "      <td>Training</td>\n",
              "    </tr>\n",
              "  </tbody>\n",
              "</table>\n",
              "</div>\n",
              "    <div class=\"colab-df-buttons\">\n",
              "\n",
              "  <div class=\"colab-df-container\">\n",
              "    <button class=\"colab-df-convert\" onclick=\"convertToInteractive('df-fcd7df43-d29a-4e5e-8428-4722dc87c8ff')\"\n",
              "            title=\"Convert this dataframe to an interactive table.\"\n",
              "            style=\"display:none;\">\n",
              "\n",
              "  <svg xmlns=\"http://www.w3.org/2000/svg\" height=\"24px\" viewBox=\"0 -960 960 960\">\n",
              "    <path d=\"M120-120v-720h720v720H120Zm60-500h600v-160H180v160Zm220 220h160v-160H400v160Zm0 220h160v-160H400v160ZM180-400h160v-160H180v160Zm440 0h160v-160H620v160ZM180-180h160v-160H180v160Zm440 0h160v-160H620v160Z\"/>\n",
              "  </svg>\n",
              "    </button>\n",
              "\n",
              "  <style>\n",
              "    .colab-df-container {\n",
              "      display:flex;\n",
              "      gap: 12px;\n",
              "    }\n",
              "\n",
              "    .colab-df-convert {\n",
              "      background-color: #E8F0FE;\n",
              "      border: none;\n",
              "      border-radius: 50%;\n",
              "      cursor: pointer;\n",
              "      display: none;\n",
              "      fill: #1967D2;\n",
              "      height: 32px;\n",
              "      padding: 0 0 0 0;\n",
              "      width: 32px;\n",
              "    }\n",
              "\n",
              "    .colab-df-convert:hover {\n",
              "      background-color: #E2EBFA;\n",
              "      box-shadow: 0px 1px 2px rgba(60, 64, 67, 0.3), 0px 1px 3px 1px rgba(60, 64, 67, 0.15);\n",
              "      fill: #174EA6;\n",
              "    }\n",
              "\n",
              "    .colab-df-buttons div {\n",
              "      margin-bottom: 4px;\n",
              "    }\n",
              "\n",
              "    [theme=dark] .colab-df-convert {\n",
              "      background-color: #3B4455;\n",
              "      fill: #D2E3FC;\n",
              "    }\n",
              "\n",
              "    [theme=dark] .colab-df-convert:hover {\n",
              "      background-color: #434B5C;\n",
              "      box-shadow: 0px 1px 3px 1px rgba(0, 0, 0, 0.15);\n",
              "      filter: drop-shadow(0px 1px 2px rgba(0, 0, 0, 0.3));\n",
              "      fill: #FFFFFF;\n",
              "    }\n",
              "  </style>\n",
              "\n",
              "    <script>\n",
              "      const buttonEl =\n",
              "        document.querySelector('#df-fcd7df43-d29a-4e5e-8428-4722dc87c8ff button.colab-df-convert');\n",
              "      buttonEl.style.display =\n",
              "        google.colab.kernel.accessAllowed ? 'block' : 'none';\n",
              "\n",
              "      async function convertToInteractive(key) {\n",
              "        const element = document.querySelector('#df-fcd7df43-d29a-4e5e-8428-4722dc87c8ff');\n",
              "        const dataTable =\n",
              "          await google.colab.kernel.invokeFunction('convertToInteractive',\n",
              "                                                    [key], {});\n",
              "        if (!dataTable) return;\n",
              "\n",
              "        const docLinkHtml = 'Like what you see? Visit the ' +\n",
              "          '<a target=\"_blank\" href=https://colab.research.google.com/notebooks/data_table.ipynb>data table notebook</a>'\n",
              "          + ' to learn more about interactive tables.';\n",
              "        element.innerHTML = '';\n",
              "        dataTable['output_type'] = 'display_data';\n",
              "        await google.colab.output.renderOutput(dataTable, element);\n",
              "        const docLink = document.createElement('div');\n",
              "        docLink.innerHTML = docLinkHtml;\n",
              "        element.appendChild(docLink);\n",
              "      }\n",
              "    </script>\n",
              "  </div>\n",
              "\n",
              "\n",
              "<div id=\"df-67eda7bd-1406-445e-b786-93a1c4d65f71\">\n",
              "  <button class=\"colab-df-quickchart\" onclick=\"quickchart('df-67eda7bd-1406-445e-b786-93a1c4d65f71')\"\n",
              "            title=\"Suggest charts\"\n",
              "            style=\"display:none;\">\n",
              "\n",
              "<svg xmlns=\"http://www.w3.org/2000/svg\" height=\"24px\"viewBox=\"0 0 24 24\"\n",
              "     width=\"24px\">\n",
              "    <g>\n",
              "        <path d=\"M19 3H5c-1.1 0-2 .9-2 2v14c0 1.1.9 2 2 2h14c1.1 0 2-.9 2-2V5c0-1.1-.9-2-2-2zM9 17H7v-7h2v7zm4 0h-2V7h2v10zm4 0h-2v-4h2v4z\"/>\n",
              "    </g>\n",
              "</svg>\n",
              "  </button>\n",
              "\n",
              "<style>\n",
              "  .colab-df-quickchart {\n",
              "      --bg-color: #E8F0FE;\n",
              "      --fill-color: #1967D2;\n",
              "      --hover-bg-color: #E2EBFA;\n",
              "      --hover-fill-color: #174EA6;\n",
              "      --disabled-fill-color: #AAA;\n",
              "      --disabled-bg-color: #DDD;\n",
              "  }\n",
              "\n",
              "  [theme=dark] .colab-df-quickchart {\n",
              "      --bg-color: #3B4455;\n",
              "      --fill-color: #D2E3FC;\n",
              "      --hover-bg-color: #434B5C;\n",
              "      --hover-fill-color: #FFFFFF;\n",
              "      --disabled-bg-color: #3B4455;\n",
              "      --disabled-fill-color: #666;\n",
              "  }\n",
              "\n",
              "  .colab-df-quickchart {\n",
              "    background-color: var(--bg-color);\n",
              "    border: none;\n",
              "    border-radius: 50%;\n",
              "    cursor: pointer;\n",
              "    display: none;\n",
              "    fill: var(--fill-color);\n",
              "    height: 32px;\n",
              "    padding: 0;\n",
              "    width: 32px;\n",
              "  }\n",
              "\n",
              "  .colab-df-quickchart:hover {\n",
              "    background-color: var(--hover-bg-color);\n",
              "    box-shadow: 0 1px 2px rgba(60, 64, 67, 0.3), 0 1px 3px 1px rgba(60, 64, 67, 0.15);\n",
              "    fill: var(--button-hover-fill-color);\n",
              "  }\n",
              "\n",
              "  .colab-df-quickchart-complete:disabled,\n",
              "  .colab-df-quickchart-complete:disabled:hover {\n",
              "    background-color: var(--disabled-bg-color);\n",
              "    fill: var(--disabled-fill-color);\n",
              "    box-shadow: none;\n",
              "  }\n",
              "\n",
              "  .colab-df-spinner {\n",
              "    border: 2px solid var(--fill-color);\n",
              "    border-color: transparent;\n",
              "    border-bottom-color: var(--fill-color);\n",
              "    animation:\n",
              "      spin 1s steps(1) infinite;\n",
              "  }\n",
              "\n",
              "  @keyframes spin {\n",
              "    0% {\n",
              "      border-color: transparent;\n",
              "      border-bottom-color: var(--fill-color);\n",
              "      border-left-color: var(--fill-color);\n",
              "    }\n",
              "    20% {\n",
              "      border-color: transparent;\n",
              "      border-left-color: var(--fill-color);\n",
              "      border-top-color: var(--fill-color);\n",
              "    }\n",
              "    30% {\n",
              "      border-color: transparent;\n",
              "      border-left-color: var(--fill-color);\n",
              "      border-top-color: var(--fill-color);\n",
              "      border-right-color: var(--fill-color);\n",
              "    }\n",
              "    40% {\n",
              "      border-color: transparent;\n",
              "      border-right-color: var(--fill-color);\n",
              "      border-top-color: var(--fill-color);\n",
              "    }\n",
              "    60% {\n",
              "      border-color: transparent;\n",
              "      border-right-color: var(--fill-color);\n",
              "    }\n",
              "    80% {\n",
              "      border-color: transparent;\n",
              "      border-right-color: var(--fill-color);\n",
              "      border-bottom-color: var(--fill-color);\n",
              "    }\n",
              "    90% {\n",
              "      border-color: transparent;\n",
              "      border-bottom-color: var(--fill-color);\n",
              "    }\n",
              "  }\n",
              "</style>\n",
              "\n",
              "  <script>\n",
              "    async function quickchart(key) {\n",
              "      const quickchartButtonEl =\n",
              "        document.querySelector('#' + key + ' button');\n",
              "      quickchartButtonEl.disabled = true;  // To prevent multiple clicks.\n",
              "      quickchartButtonEl.classList.add('colab-df-spinner');\n",
              "      try {\n",
              "        const charts = await google.colab.kernel.invokeFunction(\n",
              "            'suggestCharts', [key], {});\n",
              "      } catch (error) {\n",
              "        console.error('Error during call to suggestCharts:', error);\n",
              "      }\n",
              "      quickchartButtonEl.classList.remove('colab-df-spinner');\n",
              "      quickchartButtonEl.classList.add('colab-df-quickchart-complete');\n",
              "    }\n",
              "    (() => {\n",
              "      let quickchartButtonEl =\n",
              "        document.querySelector('#df-67eda7bd-1406-445e-b786-93a1c4d65f71 button');\n",
              "      quickchartButtonEl.style.display =\n",
              "        google.colab.kernel.accessAllowed ? 'block' : 'none';\n",
              "    })();\n",
              "  </script>\n",
              "</div>\n",
              "    </div>\n",
              "  </div>\n"
            ]
          },
          "metadata": {},
          "execution_count": 24
        }
      ]
    },
    {
      "cell_type": "code",
      "source": [
        "df['Usage'].value_counts()"
      ],
      "metadata": {
        "colab": {
          "base_uri": "https://localhost:8080/"
        },
        "id": "FXXB0caFWIFc",
        "outputId": "8ef54966-d873-4555-a3cb-94b68a2252ca"
      },
      "execution_count": 5,
      "outputs": [
        {
          "output_type": "execute_result",
          "data": {
            "text/plain": [
              "Training       28709\n",
              "PublicTest      3589\n",
              "PrivateTest     3589\n",
              "Name: Usage, dtype: int64"
            ]
          },
          "metadata": {},
          "execution_count": 5
        }
      ]
    },
    {
      "cell_type": "markdown",
      "source": [
        "# Предварительная обработка данных."
      ],
      "metadata": {
        "id": "eBo7CLxlhvIG"
      }
    },
    {
      "cell_type": "markdown",
      "source": [
        "Разделение набора данных на необходимые части."
      ],
      "metadata": {
        "id": "xW967C_Uisr0"
      }
    },
    {
      "cell_type": "code",
      "source": [
        "df_train = df[df['Usage']=='Training'].copy()\n",
        "df_test = df[df['Usage']=='PublicTest'].copy()\n",
        "df_valid = df[df['Usage']=='PrivateTest'].copy()"
      ],
      "metadata": {
        "id": "V1wdmC8JWLVk"
      },
      "execution_count": 6,
      "outputs": []
    },
    {
      "cell_type": "markdown",
      "source": [
        "Разделение пикселей изображения и меток для каждых данных на три набора."
      ],
      "metadata": {
        "id": "uyOzXEbEixeV"
      }
    },
    {
      "cell_type": "code",
      "source": [
        "num_classes = 7\n",
        "input_shape = (48, 48, 3)\n",
        "\n",
        "def split_data(data):\n",
        "  data['pixels'] = data['pixels'].apply(lambda pixel_sequence: [int(pixel) for pixel in pixel_sequence.split()])\n",
        "  images = np.array(data['pixels'].tolist(), dtype='float32').reshape(-1, 48, 48, 1) / 255.0\n",
        "  images = np.repeat(images, 3, axis=-1)\n",
        "  labels = data['emotion'].to_numpy()\n",
        "\n",
        "  return images, labels"
      ],
      "metadata": {
        "id": "ducyhHQ0WM0M"
      },
      "execution_count": 7,
      "outputs": []
    },
    {
      "cell_type": "code",
      "source": [
        "train_data, train_labels = split_data(df_train)\n",
        "test_data, test_labels = split_data(df_test)\n",
        "validation_data, validation_labels = split_data(df_valid)"
      ],
      "metadata": {
        "id": "SUHNRjtjWQ8X"
      },
      "execution_count": 8,
      "outputs": []
    },
    {
      "cell_type": "markdown",
      "source": [
        "# Определение генератора изображений для увеличения данных."
      ],
      "metadata": {
        "id": "K3KJfK68iAZF"
      }
    },
    {
      "cell_type": "code",
      "source": [
        "datagen = tf.keras.preprocessing.image.ImageDataGenerator(\n",
        "    rotation_range=20,\n",
        "    width_shift_range=0.15,\n",
        "    height_shift_range=0.15,\n",
        "    zoom_range=0.25,\n",
        "    fill_mode='nearest'\n",
        ")"
      ],
      "metadata": {
        "id": "HxJlBQAyWT9M"
      },
      "execution_count": 9,
      "outputs": []
    },
    {
      "cell_type": "markdown",
      "source": [
        "# Создание модели CNN"
      ],
      "metadata": {
        "id": "BOvq8LkEiGrU"
      }
    },
    {
      "cell_type": "markdown",
      "source": [
        "Реализация архитектуры модели."
      ],
      "metadata": {
        "id": "60_8QdkSi7JV"
      }
    },
    {
      "cell_type": "code",
      "source": [
        "model = Sequential()\n",
        "\n",
        "model.add(layers.Conv2D(128, (3, 3), activation='relu', padding='same', input_shape=input_shape))\n",
        "model.add(layers.Conv2D(256, (3, 3), activation='relu', padding='same'))\n",
        "model.add(layers.BatchNormalization())\n",
        "model.add(layers.MaxPooling2D((2, 2)))\n",
        "\n",
        "model.add(layers.SeparableConv2D(128, (3, 3), activation='relu', padding='same'))\n",
        "model.add(layers.BatchNormalization())\n",
        "model.add(layers.SeparableConv2D(128, (3, 3), activation='relu', padding='same'))\n",
        "model.add(layers.BatchNormalization())\n",
        "model.add(layers.MaxPooling2D((2, 2)))\n",
        "\n",
        "model.add(layers.Conv2D(256, (3, 3), activation='relu', padding='same'))\n",
        "model.add(layers.BatchNormalization())\n",
        "model.add(layers.Conv2D(256, (3, 3), activation='relu', padding='same'))\n",
        "model.add(layers.BatchNormalization())\n",
        "model.add(layers.MaxPooling2D((2, 2)))\n",
        "\n",
        "model.add(layers.Flatten())\n",
        "model.add(layers.Dense(256, activation='relu'))\n",
        "model.add(layers.BatchNormalization())\n",
        "model.add(layers.Dense(128, activation='relu'))\n",
        "model.add(layers.BatchNormalization())\n",
        "model.add(layers.Dense(num_classes, activation='softmax'))"
      ],
      "metadata": {
        "id": "0lTwDs1EWXbM"
      },
      "execution_count": 10,
      "outputs": []
    },
    {
      "cell_type": "markdown",
      "source": [
        "Компиляция модели."
      ],
      "metadata": {
        "id": "d1wijtXai_t8"
      }
    },
    {
      "cell_type": "code",
      "source": [
        "optimizer = optimizers.Adam()\n",
        "loss = losses.SparseCategoricalCrossentropy()\n",
        "model.compile(optimizer=optimizer, loss=loss, metrics=['accuracy'])"
      ],
      "metadata": {
        "id": "TOBF3IABWZOV"
      },
      "execution_count": 11,
      "outputs": []
    },
    {
      "cell_type": "code",
      "source": [
        "model.summary()"
      ],
      "metadata": {
        "colab": {
          "base_uri": "https://localhost:8080/"
        },
        "id": "qSMnAeRkWhsu",
        "outputId": "03e2d72d-a20c-4660-f269-baf4674681d7"
      },
      "execution_count": 12,
      "outputs": [
        {
          "output_type": "stream",
          "name": "stdout",
          "text": [
            "Model: \"sequential\"\n",
            "_________________________________________________________________\n",
            " Layer (type)                Output Shape              Param #   \n",
            "=================================================================\n",
            " conv2d (Conv2D)             (None, 48, 48, 128)       3584      \n",
            "                                                                 \n",
            " conv2d_1 (Conv2D)           (None, 48, 48, 256)       295168    \n",
            "                                                                 \n",
            " batch_normalization (Batch  (None, 48, 48, 256)       1024      \n",
            " Normalization)                                                  \n",
            "                                                                 \n",
            " max_pooling2d (MaxPooling2  (None, 24, 24, 256)       0         \n",
            " D)                                                              \n",
            "                                                                 \n",
            " separable_conv2d (Separabl  (None, 24, 24, 128)       35200     \n",
            " eConv2D)                                                        \n",
            "                                                                 \n",
            " batch_normalization_1 (Bat  (None, 24, 24, 128)       512       \n",
            " chNormalization)                                                \n",
            "                                                                 \n",
            " separable_conv2d_1 (Separa  (None, 24, 24, 128)       17664     \n",
            " bleConv2D)                                                      \n",
            "                                                                 \n",
            " batch_normalization_2 (Bat  (None, 24, 24, 128)       512       \n",
            " chNormalization)                                                \n",
            "                                                                 \n",
            " max_pooling2d_1 (MaxPoolin  (None, 12, 12, 128)       0         \n",
            " g2D)                                                            \n",
            "                                                                 \n",
            " conv2d_2 (Conv2D)           (None, 12, 12, 256)       295168    \n",
            "                                                                 \n",
            " batch_normalization_3 (Bat  (None, 12, 12, 256)       1024      \n",
            " chNormalization)                                                \n",
            "                                                                 \n",
            " conv2d_3 (Conv2D)           (None, 12, 12, 256)       590080    \n",
            "                                                                 \n",
            " batch_normalization_4 (Bat  (None, 12, 12, 256)       1024      \n",
            " chNormalization)                                                \n",
            "                                                                 \n",
            " max_pooling2d_2 (MaxPoolin  (None, 6, 6, 256)         0         \n",
            " g2D)                                                            \n",
            "                                                                 \n",
            " flatten (Flatten)           (None, 9216)              0         \n",
            "                                                                 \n",
            " dense (Dense)               (None, 256)               2359552   \n",
            "                                                                 \n",
            " batch_normalization_5 (Bat  (None, 256)               1024      \n",
            " chNormalization)                                                \n",
            "                                                                 \n",
            " dense_1 (Dense)             (None, 128)               32896     \n",
            "                                                                 \n",
            " batch_normalization_6 (Bat  (None, 128)               512       \n",
            " chNormalization)                                                \n",
            "                                                                 \n",
            " dense_2 (Dense)             (None, 7)                 903       \n",
            "                                                                 \n",
            "=================================================================\n",
            "Total params: 3635847 (13.87 MB)\n",
            "Trainable params: 3633031 (13.86 MB)\n",
            "Non-trainable params: 2816 (11.00 KB)\n",
            "_________________________________________________________________\n"
          ]
        }
      ]
    },
    {
      "cell_type": "markdown",
      "source": [
        "Определение параметров обратного вызова для модели для сохранения лучшего, выбор скорости обучения и ранняя остановка в случае снижения или статической производительности."
      ],
      "metadata": {
        "id": "2p4T9L3CjGOl"
      }
    },
    {
      "cell_type": "code",
      "source": [
        "early_stopping = callbacks.EarlyStopping(patience=10, restore_best_weights=True)\n",
        "model_checkpoint = callbacks.ModelCheckpoint(\"best_model.h5\", save_best_only=True)\n",
        "lr_scheduler = tf.keras.callbacks.ReduceLROnPlateau(factor=0.1, patience=5)"
      ],
      "metadata": {
        "id": "fJYIFfaTWj8F"
      },
      "execution_count": 13,
      "outputs": []
    },
    {
      "cell_type": "markdown",
      "source": [
        "Обучение модели на тренировочном наборе данных."
      ],
      "metadata": {
        "id": "Rsemb2DAjNO-"
      }
    },
    {
      "cell_type": "code",
      "source": [
        "history = model.fit(\n",
        "    datagen.flow(train_data, train_labels, batch_size=64),\n",
        "    epochs=35,\n",
        "    validation_data=(validation_data, validation_labels),\n",
        "    callbacks=[early_stopping, model_checkpoint, lr_scheduler]\n",
        ")"
      ],
      "metadata": {
        "colab": {
          "base_uri": "https://localhost:8080/"
        },
        "id": "CEaF8uH2WmS_",
        "outputId": "7fc869c4-ccc1-4398-91b3-4f9a63dbbb2e"
      },
      "execution_count": 14,
      "outputs": [
        {
          "output_type": "stream",
          "name": "stdout",
          "text": [
            "Epoch 1/35\n",
            "449/449 [==============================] - 54s 94ms/step - loss: 1.8171 - accuracy: 0.2722 - val_loss: 2.0096 - val_accuracy: 0.2530 - lr: 0.0010\n"
          ]
        },
        {
          "output_type": "stream",
          "name": "stderr",
          "text": [
            "/usr/local/lib/python3.10/dist-packages/keras/src/engine/training.py:3103: UserWarning: You are saving your model as an HDF5 file via `model.save()`. This file format is considered legacy. We recommend using instead the native Keras format, e.g. `model.save('my_model.keras')`.\n",
            "  saving_api.save_model(\n"
          ]
        },
        {
          "output_type": "stream",
          "name": "stdout",
          "text": [
            "Epoch 2/35\n",
            "449/449 [==============================] - 47s 104ms/step - loss: 1.6423 - accuracy: 0.3525 - val_loss: 1.5821 - val_accuracy: 0.3901 - lr: 0.0010\n",
            "Epoch 3/35\n",
            "449/449 [==============================] - 38s 84ms/step - loss: 1.4880 - accuracy: 0.4240 - val_loss: 1.3649 - val_accuracy: 0.4792 - lr: 0.0010\n",
            "Epoch 4/35\n",
            "449/449 [==============================] - 38s 84ms/step - loss: 1.3575 - accuracy: 0.4835 - val_loss: 1.2623 - val_accuracy: 0.5138 - lr: 0.0010\n",
            "Epoch 5/35\n",
            "449/449 [==============================] - 39s 86ms/step - loss: 1.2632 - accuracy: 0.5192 - val_loss: 1.1889 - val_accuracy: 0.5497 - lr: 0.0010\n",
            "Epoch 6/35\n",
            "449/449 [==============================] - 37s 83ms/step - loss: 1.2133 - accuracy: 0.5364 - val_loss: 1.1610 - val_accuracy: 0.5469 - lr: 0.0010\n",
            "Epoch 7/35\n",
            "449/449 [==============================] - 37s 82ms/step - loss: 1.1607 - accuracy: 0.5613 - val_loss: 1.1067 - val_accuracy: 0.5709 - lr: 0.0010\n",
            "Epoch 8/35\n",
            "449/449 [==============================] - 37s 83ms/step - loss: 1.1134 - accuracy: 0.5785 - val_loss: 1.0746 - val_accuracy: 0.5996 - lr: 0.0010\n",
            "Epoch 9/35\n",
            "449/449 [==============================] - 37s 82ms/step - loss: 1.0851 - accuracy: 0.5907 - val_loss: 1.0410 - val_accuracy: 0.6074 - lr: 0.0010\n",
            "Epoch 10/35\n",
            "449/449 [==============================] - 37s 82ms/step - loss: 1.0637 - accuracy: 0.5966 - val_loss: 1.0544 - val_accuracy: 0.6060 - lr: 0.0010\n",
            "Epoch 11/35\n",
            "449/449 [==============================] - 36s 81ms/step - loss: 1.0337 - accuracy: 0.6098 - val_loss: 1.0699 - val_accuracy: 0.5940 - lr: 0.0010\n",
            "Epoch 12/35\n",
            "449/449 [==============================] - 37s 83ms/step - loss: 1.0085 - accuracy: 0.6215 - val_loss: 1.0284 - val_accuracy: 0.6096 - lr: 0.0010\n",
            "Epoch 13/35\n",
            "449/449 [==============================] - 38s 84ms/step - loss: 0.9978 - accuracy: 0.6244 - val_loss: 1.0169 - val_accuracy: 0.6191 - lr: 0.0010\n",
            "Epoch 14/35\n",
            "449/449 [==============================] - 37s 83ms/step - loss: 0.9646 - accuracy: 0.6360 - val_loss: 1.0710 - val_accuracy: 0.5996 - lr: 0.0010\n",
            "Epoch 15/35\n",
            "449/449 [==============================] - 38s 84ms/step - loss: 0.9487 - accuracy: 0.6458 - val_loss: 0.9876 - val_accuracy: 0.6322 - lr: 0.0010\n",
            "Epoch 16/35\n",
            "449/449 [==============================] - 37s 82ms/step - loss: 0.9350 - accuracy: 0.6497 - val_loss: 0.9954 - val_accuracy: 0.6283 - lr: 0.0010\n",
            "Epoch 17/35\n",
            "449/449 [==============================] - 36s 81ms/step - loss: 0.9210 - accuracy: 0.6547 - val_loss: 0.9925 - val_accuracy: 0.6339 - lr: 0.0010\n",
            "Epoch 18/35\n",
            "449/449 [==============================] - 38s 84ms/step - loss: 0.9085 - accuracy: 0.6589 - val_loss: 0.9871 - val_accuracy: 0.6395 - lr: 0.0010\n",
            "Epoch 19/35\n",
            "449/449 [==============================] - 36s 81ms/step - loss: 0.8874 - accuracy: 0.6680 - val_loss: 1.0103 - val_accuracy: 0.6319 - lr: 0.0010\n",
            "Epoch 20/35\n",
            "449/449 [==============================] - 37s 83ms/step - loss: 0.8760 - accuracy: 0.6735 - val_loss: 1.0561 - val_accuracy: 0.6116 - lr: 0.0010\n",
            "Epoch 21/35\n",
            "449/449 [==============================] - 36s 81ms/step - loss: 0.8640 - accuracy: 0.6762 - val_loss: 0.9626 - val_accuracy: 0.6503 - lr: 0.0010\n",
            "Epoch 22/35\n",
            "449/449 [==============================] - 37s 83ms/step - loss: 0.8421 - accuracy: 0.6879 - val_loss: 0.9680 - val_accuracy: 0.6517 - lr: 0.0010\n",
            "Epoch 23/35\n",
            "449/449 [==============================] - 36s 80ms/step - loss: 0.8371 - accuracy: 0.6885 - val_loss: 1.0328 - val_accuracy: 0.6291 - lr: 0.0010\n",
            "Epoch 24/35\n",
            "449/449 [==============================] - 37s 82ms/step - loss: 0.8180 - accuracy: 0.6957 - val_loss: 0.9816 - val_accuracy: 0.6414 - lr: 0.0010\n",
            "Epoch 25/35\n",
            "449/449 [==============================] - 36s 80ms/step - loss: 0.8016 - accuracy: 0.7020 - val_loss: 0.9879 - val_accuracy: 0.6604 - lr: 0.0010\n",
            "Epoch 26/35\n",
            "449/449 [==============================] - 37s 82ms/step - loss: 0.7917 - accuracy: 0.7067 - val_loss: 0.9743 - val_accuracy: 0.6562 - lr: 0.0010\n",
            "Epoch 27/35\n",
            "449/449 [==============================] - 36s 81ms/step - loss: 0.7277 - accuracy: 0.7321 - val_loss: 0.9088 - val_accuracy: 0.6771 - lr: 1.0000e-04\n",
            "Epoch 28/35\n",
            "449/449 [==============================] - 38s 84ms/step - loss: 0.6988 - accuracy: 0.7435 - val_loss: 0.9117 - val_accuracy: 0.6799 - lr: 1.0000e-04\n",
            "Epoch 29/35\n",
            "449/449 [==============================] - 37s 83ms/step - loss: 0.6904 - accuracy: 0.7433 - val_loss: 0.9197 - val_accuracy: 0.6762 - lr: 1.0000e-04\n",
            "Epoch 30/35\n",
            "449/449 [==============================] - 39s 86ms/step - loss: 0.6797 - accuracy: 0.7499 - val_loss: 0.9103 - val_accuracy: 0.6796 - lr: 1.0000e-04\n",
            "Epoch 31/35\n",
            "449/449 [==============================] - 38s 84ms/step - loss: 0.6689 - accuracy: 0.7537 - val_loss: 0.9260 - val_accuracy: 0.6718 - lr: 1.0000e-04\n",
            "Epoch 32/35\n",
            "449/449 [==============================] - 37s 83ms/step - loss: 0.6642 - accuracy: 0.7578 - val_loss: 0.9157 - val_accuracy: 0.6765 - lr: 1.0000e-04\n",
            "Epoch 33/35\n",
            "449/449 [==============================] - 38s 84ms/step - loss: 0.6512 - accuracy: 0.7596 - val_loss: 0.9166 - val_accuracy: 0.6799 - lr: 1.0000e-05\n",
            "Epoch 34/35\n",
            "449/449 [==============================] - 37s 81ms/step - loss: 0.6513 - accuracy: 0.7591 - val_loss: 0.9159 - val_accuracy: 0.6818 - lr: 1.0000e-05\n",
            "Epoch 35/35\n",
            "449/449 [==============================] - 37s 83ms/step - loss: 0.6449 - accuracy: 0.7609 - val_loss: 0.9176 - val_accuracy: 0.6790 - lr: 1.0000e-05\n"
          ]
        }
      ]
    },
    {
      "cell_type": "code",
      "source": [
        "model.save('emotion_detector.h5')"
      ],
      "metadata": {
        "id": "QCu_qFFJXIPR"
      },
      "execution_count": 15,
      "outputs": []
    },
    {
      "cell_type": "markdown",
      "source": [
        "# Мониторинг производительности модели."
      ],
      "metadata": {
        "id": "iidaEpEEiQhv"
      }
    },
    {
      "cell_type": "code",
      "source": [
        "plt.plot(history.history['loss'], label='Training Loss')\n",
        "plt.plot(history.history['val_loss'], label='Validation Loss')\n",
        "plt.xlabel('Epoch')\n",
        "plt.ylabel('Loss')\n",
        "plt.legend()\n",
        "plt.show()\n",
        "\n",
        "plt.plot(history.history['accuracy'], label='Training Accuracy')\n",
        "plt.plot(history.history['val_accuracy'], label='Validation Accuracy')\n",
        "plt.xlabel('Epoch')\n",
        "plt.ylabel('Accuracy')\n",
        "plt.legend()\n",
        "plt.show()"
      ],
      "metadata": {
        "colab": {
          "base_uri": "https://localhost:8080/",
          "height": 881
        },
        "id": "1veY9i3WWoU1",
        "outputId": "ab650dcb-2c2c-49de-f1ba-48bdfb326574"
      },
      "execution_count": 17,
      "outputs": [
        {
          "output_type": "display_data",
          "data": {
            "text/plain": [
              "<Figure size 640x480 with 1 Axes>"
            ],
            "image/png": "[encoded data removed]"
          },
          "metadata": {}
        },
        {
          "output_type": "display_data",
          "data": {
            "text/plain": [
              "<Figure size 640x480 with 1 Axes>"
            ],
            "image/png": "[encoded data removed]"
          },
          "metadata": {}
        }
      ]
    }
  ]
}